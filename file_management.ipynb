{
 "cells": [
  {
   "cell_type": "code",
   "execution_count": 3,
   "id": "7c452c98-7b3f-4361-a7f7-8cd5a87e6c44",
   "metadata": {},
   "outputs": [
    {
     "name": "stdout",
     "output_type": "stream",
     "text": [
      "Files have been successfully organized!\n"
     ]
    }
   ],
   "source": [
    "import os\n",
    "import shutil\n",
    "\n",
    "def organize_existing_files(directory):\n",
    "    \"\"\"\n",
    "    Organize files in the specified directory into categorized folders based on their extensions.\n",
    "\n",
    "    Parameters:\n",
    "    directory (str): Path to the main directory containing the files.\n",
    "    \"\"\"\n",
    "    # Define file categories and their extensions\n",
    "    file_categories = {\n",
    "        \"PDFs\": [\".pdf\"],\n",
    "        \"Documents\": [\".doc\", \".docx\"],\n",
    "        \"Excel_Files\": [\".xls\", \".xlsx\", \".csv\"],\n",
    "        \"Others\": []  # Catch-all for unmatched files\n",
    "    }\n",
    "\n",
    "    # Ensure folders for each category exist\n",
    "    for category in file_categories.keys():\n",
    "        folder_path = os.path.join(directory, category)\n",
    "        if not os.path.exists(folder_path):\n",
    "            os.makedirs(folder_path)\n",
    "\n",
    "    # Process files in the main directory\n",
    "    for filename in os.listdir(directory):\n",
    "        file_path = os.path.join(directory, filename)\n",
    "        \n",
    "        # Skip directories and focus only on files\n",
    "        if os.path.isfile(file_path):\n",
    "            file_ext = os.path.splitext(filename)[1].lower()  # Get the file extension\n",
    "            moved = False\n",
    "\n",
    "            # Move the file to the appropriate category folder\n",
    "            for category, extensions in file_categories.items():\n",
    "                if file_ext in extensions:\n",
    "                    shutil.move(file_path, os.path.join(directory, category, filename))\n",
    "                    moved = True\n",
    "                    break\n",
    "\n",
    "            # If no matching category, move to \"Others\"\n",
    "            if not moved:\n",
    "                shutil.move(file_path, os.path.join(directory, \"Others\", filename))\n",
    "\n",
    "    print(\"Files have been successfully organized!\")\n",
    "\n",
    "# Example usage\n",
    "if __name__ == \"__main__\":\n",
    "    # Replace this with the path to your folder containing the files\n",
    "    main_directory = \"Downloads\"\n",
    "    organize_existing_files(main_directory)\n"
   ]
  },
  {
   "cell_type": "code",
   "execution_count": null,
   "id": "923a54e2-6205-4bdf-978e-76d743861377",
   "metadata": {},
   "outputs": [],
   "source": []
  }
 ],
 "metadata": {
  "kernelspec": {
   "display_name": "Python 3 (ipykernel)",
   "language": "python",
   "name": "python3"
  },
  "language_info": {
   "codemirror_mode": {
    "name": "ipython",
    "version": 3
   },
   "file_extension": ".py",
   "mimetype": "text/x-python",
   "name": "python",
   "nbconvert_exporter": "python",
   "pygments_lexer": "ipython3",
   "version": "3.12.4"
  }
 },
 "nbformat": 4,
 "nbformat_minor": 5
}
